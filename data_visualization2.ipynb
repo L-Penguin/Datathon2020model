{
 "cells": [
  {
   "cell_type": "code",
   "execution_count": 31,
   "metadata": {},
   "outputs": [],
   "source": [
    "import torch.nn as nn\n",
    "import torch\n",
    "import torch.optim as optim\n",
    "from torch.autograd import Variable\n",
    "\n",
    "from sklearn.model_selection import train_test_split\n",
    "from sklearn.ensemble import RandomForestClassifier\n",
    "from sklearn.datasets import make_classification\n",
    "import numpy as np\n",
    "import scipy.spatial as scisp\n",
    "import pandas as pd\n",
    "from matplotlib import pyplot as plt\n",
    "import matplotlib.patches as mpatches\n",
    "from sklearn.model_selection import KFold\n",
    "from sklearn.linear_model import LogisticRegression\n",
    "import warnings \n",
    "from xgboost import XGBClassifier\n",
    "import seaborn as sns\n",
    "warnings.filterwarnings(\"ignore\")\n",
    "from scipy.stats import spearmanr"
   ]
  },
  {
   "cell_type": "code",
   "execution_count": 7,
   "metadata": {},
   "outputs": [],
   "source": [
    "X = pd.read_csv(\"x_trianing_data.csv\", index_col = 0)"
   ]
  },
  {
   "cell_type": "code",
   "execution_count": 13,
   "metadata": {},
   "outputs": [],
   "source": [
    "y = pd.read_csv(\"y_training_data.csv\", index_col = 0)"
   ]
  },
  {
   "cell_type": "code",
   "execution_count": null,
   "metadata": {},
   "outputs": [],
   "source": []
  },
  {
   "cell_type": "code",
   "execution_count": 76,
   "metadata": {},
   "outputs": [],
   "source": [
    "X_train, X_test, y_train, y_test = train_test_split(X.values, y.values, test_size = 0.2)"
   ]
  },
  {
   "cell_type": "code",
   "execution_count": 57,
   "metadata": {},
   "outputs": [],
   "source": [
    "hm = X.drop(\"fips\",1)"
   ]
  },
  {
   "cell_type": "code",
   "execution_count": 58,
   "metadata": {},
   "outputs": [],
   "source": [
    "correlation_mat = np.zeros([len(hm.columns), len(hm.columns)])"
   ]
  },
  {
   "cell_type": "code",
   "execution_count": 59,
   "metadata": {},
   "outputs": [],
   "source": [
    "for i in range(correlation_mat.shape[0]):\n",
    "    for j in range(correlation_mat.shape[1]):\n",
    "        correlation_mat[i, j] = spearmanr(hm[hm.columns[i]], hm[hm.columns[j]])[0]"
   ]
  },
  {
   "cell_type": "code",
   "execution_count": 60,
   "metadata": {},
   "outputs": [],
   "source": [
    "cor_mat = pd.DataFrame(correlation_mat, columns = hm.columns)"
   ]
  },
  {
   "cell_type": "code",
   "execution_count": 61,
   "metadata": {},
   "outputs": [],
   "source": [
    "cor_mat.index = hm.columns"
   ]
  },
  {
   "cell_type": "code",
   "execution_count": 62,
   "metadata": {},
   "outputs": [
    {
     "data": {
      "text/plain": [
       "<matplotlib.axes._subplots.AxesSubplot at 0x26465a5b7f0>"
      ]
     },
     "execution_count": 62,
     "metadata": {},
     "output_type": "execute_result"
    },
    {
     "data": {
      "image/png": "[encoded data removed]",
      "text/plain": [
       "<Figure size 720x576 with 2 Axes>"
      ]
     },
     "metadata": {
      "needs_background": "light"
     },
     "output_type": "display_data"
    }
   ],
   "source": [
    "plt.figure(figsize=(10, 8))\n",
    "sns.heatmap(cor_mat, cmap=\"YlGnBu\")"
   ]
  },
  {
   "cell_type": "code",
   "execution_count": 54,
   "metadata": {},
   "outputs": [],
   "source": [
    "def accuracy(pred, truth):\n",
    "    return np.average(pred == truth)\n",
    "\n",
    "# def confusion_matrix(pred, truth):\n",
    "#     TP = pred == truth and pred == True \n",
    "\n",
    "def cross_validation(X, y, k = 10):\n",
    "    assert(len(X) == len(y))\n",
    "    kf = KFold(n_splits=k)\n",
    "    turn = 0\n",
    "    acc = []\n",
    "    for train_index, test_index in kf.split(X):\n",
    "        turn += 1\n",
    "        X_train, X_test = X.values[train_index], X.values[test_index]\n",
    "        y_train, y_test = y[train_index], y[test_index]\n",
    "        \n",
    "####### Random Forest  \n",
    "#         random_forst_clf = RandomForestClassifier()\n",
    "#         random_forst_clf.fit(X_train, y_train)\n",
    "\n",
    "####### Random Forest \n",
    "#         lm =  LogisticRegression()\n",
    "#         lm.fit(X_train, y_train) \n",
    "\n",
    "\n",
    "####### XGBoost \n",
    "        xgb = XGBClassifier()\n",
    "        xgb.fit(X_train, y_train)\n",
    "        val = accuracy(xgb.predict(X_test), y_test)\n",
    "        acc.append(val)\n",
    "        print(\"At round {}, model has accuracy {}\".format(turn, val))\n",
    "    print(\"The model has total average accuracy of {}\".format(np.mean(acc)))"
   ]
  },
  {
   "cell_type": "code",
   "execution_count": 64,
   "metadata": {},
   "outputs": [],
   "source": [
    "# cross_validation(X, y)"
   ]
  },
  {
   "cell_type": "code",
   "execution_count": null,
   "metadata": {},
   "outputs": [],
   "source": []
  },
  {
   "cell_type": "code",
   "execution_count": null,
   "metadata": {},
   "outputs": [],
   "source": []
  },
  {
   "cell_type": "code",
   "execution_count": null,
   "metadata": {},
   "outputs": [],
   "source": []
  },
  {
   "cell_type": "code",
   "execution_count": 66,
   "metadata": {},
   "outputs": [],
   "source": [
    "# # train random forst model\n",
    "# random_forst_clf = RandomForestClassifier()\n",
    "# random_forst_clf.fit(X_train, y_train)\n",
    "# # print(random_forst_clf.predict(X_test) == y_test)\n",
    "# accuracy(random_forst_clf.predict(X_test), y_test)\n",
    "# feature_importance = sorted(zip(map(lambda x: round(x, 4), random_forst_clf.feature_importances_), X_train.columns[1:]), reverse=True)"
   ]
  },
  {
   "cell_type": "code",
   "execution_count": 242,
   "metadata": {},
   "outputs": [
    {
     "name": "stdout",
     "output_type": "stream",
     "text": [
      "[(0.1026, 'Median Income'), (0.0861, '% 81+'), (0.084, 'Total Pop'), (0.0766, '% high school only'), (0.0763, '% 21-30'), (0.0746, '% 61-70'), (0.0733, 'ESTAB'), (0.0712, '% 71-80'), (0.0697, '% 41-50'), (0.0672, '% 51-60'), (0.0663, '% college or higher'), (0.0642, '% 31-40')]\n"
     ]
    }
   ],
   "source": [
    "print(feature_importance)"
   ]
  },
  {
   "cell_type": "code",
   "execution_count": 252,
   "metadata": {},
   "outputs": [],
   "source": [
    "feature_importance = np.array(feature_importance)"
   ]
  },
  {
   "cell_type": "code",
   "execution_count": 269,
   "metadata": {},
   "outputs": [
    {
     "data": {
      "text/plain": [
       "array(['Median Income', '% 81+', 'Total Pop', '% high school only',\n",
       "       '% 21-30', '% 61-70', 'ESTAB', '% 71-80', '% 41-50', '% 51-60',\n",
       "       '% college or higher', '% 31-40'], dtype='<U32')"
      ]
     },
     "execution_count": 269,
     "metadata": {},
     "output_type": "execute_result"
    }
   ],
   "source": [
    "feature_importance[:,1]"
   ]
  },
  {
   "cell_type": "code",
   "execution_count": 274,
   "metadata": {},
   "outputs": [
    {
     "data": {
      "text/plain": [
       "([0, 1, 2, 3, 4, 5, 6, 7, 8, 9, 10, 11],\n",
       " <a list of 12 Text xticklabel objects>)"
      ]
     },
     "execution_count": 274,
     "metadata": {},
     "output_type": "execute_result"
    },
    {
     "data": {
      "image/png": "[encoded data removed]",
      "text/plain": [
       "<Figure size 432x288 with 1 Axes>"
      ]
     },
     "metadata": {
      "needs_background": "light"
     },
     "output_type": "display_data"
    }
   ],
   "source": [
    "plt.barh(feature_importance[::-1,1], feature_importance[::-1,0])\n",
    "plt.xticks(rotation=45)"
   ]
  },
  {
   "cell_type": "code",
   "execution_count": null,
   "metadata": {},
   "outputs": [],
   "source": []
  },
  {
   "cell_type": "code",
   "execution_count": 80,
   "metadata": {},
   "outputs": [
    {
     "data": {
      "text/plain": [
       "0.5497122855245838"
      ]
     },
     "execution_count": 80,
     "metadata": {},
     "output_type": "execute_result"
    }
   ],
   "source": [
    "# train random forst model\n",
    "random_forst_clf = LogisticRegression()\n",
    "random_forst_clf.fit(X_train, y_train)\n",
    "# print(random_forst_clf.predict(X_test) == y_test)\n",
    "accuracy(random_forst_clf.predict(X_test), y_test)"
   ]
  },
  {
   "cell_type": "code",
   "execution_count": 78,
   "metadata": {},
   "outputs": [
    {
     "data": {
      "text/plain": [
       "0.49890505422311265"
      ]
     },
     "execution_count": 78,
     "metadata": {},
     "output_type": "execute_result"
    }
   ],
   "source": [
    "# xgb = XGBClassifier()\n",
    "# xgb.fit(X_train, y_train)\n",
    "# # print(random_forst_clf.predict(X_test) == y_test)\n",
    "# accuracy(xgb.predict(X_test), y_test)"
   ]
  },
  {
   "cell_type": "code",
   "execution_count": 136,
   "metadata": {},
   "outputs": [
    {
     "name": "stdout",
     "output_type": "stream",
     "text": [
      "187944\n",
      "4264\n",
      "147834\n",
      "825\n"
     ]
    }
   ],
   "source": [
    "prediction = random_forst_clf.predict(X_test)\n",
    "# for i in range(prediction):\n",
    "#     recall = 0\n",
    "#     precision = 0\n",
    "#     F1 = 0\n",
    "#     matching = [prediction == 12 and prediction == X_test].sum()\n",
    "matching_a = (y_test == 11).astype(int)\n",
    "matching_b = (prediction == y_test).astype(int)\n",
    "TP = np.sum(matching_a * matching_b)\n",
    "print(TP)\n",
    "\n",
    "mis = (prediction != y_test).astype(int)\n",
    "FN = np.sum(matching_a * mis)\n",
    "print(FN)\n",
    "recall = TP / (TP + FN)\n",
    "\n",
    "matching_c = (prediction == 11).astype(int)\n",
    "FP = np.sum(matching_c * mis)\n",
    "print(FP)\n",
    "\n",
    "TN = np.sum(matching_b * (1 - matching_a))\n",
    "print(TN)\n",
    "\n",
    "precision = TP / (TP + FP)\n",
    "\n",
    "\n",
    "# precision = (predicin)\n",
    "# mismatching = (prediction == 11).astype(int)\n",
    "\n",
    "#         recall = precision\n",
    "F1 = 2 * precision * recall / (precision + recall)"
   ]
  },
  {
   "cell_type": "code",
   "execution_count": 139,
   "metadata": {},
   "outputs": [
    {
     "data": {
      "text/plain": [
       "0.5597269624573379"
      ]
     },
     "execution_count": 139,
     "metadata": {},
     "output_type": "execute_result"
    }
   ],
   "source": [
    "# y_test\n",
    "precision\n",
    "# recall\n"
   ]
  },
  {
   "cell_type": "code",
   "execution_count": null,
   "metadata": {},
   "outputs": [],
   "source": [
    "precision"
   ]
  },
  {
   "cell_type": "code",
   "execution_count": 137,
   "metadata": {},
   "outputs": [
    {
     "data": {
      "text/plain": [
       "0.7119279677870247"
      ]
     },
     "execution_count": 137,
     "metadata": {},
     "output_type": "execute_result"
    }
   ],
   "source": [
    "F1"
   ]
  },
  {
   "cell_type": "code",
   "execution_count": null,
   "metadata": {},
   "outputs": [],
   "source": []
  },
  {
   "cell_type": "code",
   "execution_count": null,
   "metadata": {},
   "outputs": [],
   "source": []
  }
 ],
 "metadata": {
  "kernelspec": {
   "display_name": "Python 3",
   "language": "python",
   "name": "python3"
  },
  "language_info": {
   "codemirror_mode": {
    "name": "ipython",
    "version": 3
   },
   "file_extension": ".py",
   "mimetype": "text/x-python",
   "name": "python",
   "nbconvert_exporter": "python",
   "pygments_lexer": "ipython3",
   "version": "3.7.3"
  }
 },
 "nbformat": 4,
 "nbformat_minor": 2
}
