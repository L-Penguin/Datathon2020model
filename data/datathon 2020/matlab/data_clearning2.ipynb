{
 "cells": [
  {
   "cell_type": "code",
   "execution_count": 39,
   "metadata": {},
   "outputs": [],
   "source": [
    "import numpy as np \n",
    "import pandas as pd\n",
    "import torch\n",
    "from tqdm import tqdm\n",
    "from matplotlib import pyplot as plt"
   ]
  },
  {
   "cell_type": "code",
   "execution_count": 40,
   "metadata": {},
   "outputs": [],
   "source": [
    "data = pd.read_csv(\"alldata.csv\", index_col = 0)"
   ]
  },
  {
   "cell_type": "code",
   "execution_count": 41,
   "metadata": {},
   "outputs": [],
   "source": [
    "data.index = np.arange(len(data))"
   ]
  },
  {
   "cell_type": "code",
   "execution_count": 42,
   "metadata": {},
   "outputs": [],
   "source": [
    "data = data.drop(\"Unnamed: 0.1\", 1)"
   ]
  },
  {
   "cell_type": "code",
   "execution_count": 43,
   "metadata": {},
   "outputs": [],
   "source": [
    "hier = np.vectorize(lambda x : 1 if \"-\" in x else len(x) - 1)\n",
    "data[\"level\"] = hier(data[\"NAICS.id\"])"
   ]
  },
  {
   "cell_type": "code",
   "execution_count": 44,
   "metadata": {},
   "outputs": [
    {
     "data": {
      "text/plain": [
       "105"
      ]
     },
     "execution_count": 44,
     "metadata": {},
     "output_type": "execute_result"
    }
   ],
   "source": [
    "len(data[\"NAICS.display-label\"].unique())"
   ]
  },
  {
   "cell_type": "code",
   "execution_count": 45,
   "metadata": {},
   "outputs": [],
   "source": [
    "level1_name = set(data[\"NAICS.display-label\"][data[\"level\"] == 1])\n",
    "level2_name = set(data[\"NAICS.display-label\"][data[\"level\"] == 2])\n",
    "level3_name = set(data[\"NAICS.display-label\"][data[\"level\"] == 3])\n",
    "level4_name = set(data[\"NAICS.display-label\"][data[\"level\"] == 4])\n",
    "level5_name = set(data[\"NAICS.display-label\"][data[\"level\"] == 5])\n",
    "level1_id = set(data[\"NAICS.id\"][data[\"level\"] == 1])\n",
    "level2_id = set(data[\"NAICS.id\"][data[\"level\"] == 2])\n",
    "level3_id = set(data[\"NAICS.id\"][data[\"level\"] == 3])\n",
    "level4_id = set(data[\"NAICS.id\"][data[\"level\"] == 4])\n",
    "level5_id = set(data[\"NAICS.id\"][data[\"level\"] == 5])"
   ]
  },
  {
   "cell_type": "code",
   "execution_count": 46,
   "metadata": {},
   "outputs": [],
   "source": [
    "append0 = np.vectorize(lambda x : str(x) if len(str(x)) == 5 else \"0\" + str(x))\n",
    "data[\"zip\"] = append0(data[\"zip\"])"
   ]
  },
  {
   "cell_type": "code",
   "execution_count": 47,
   "metadata": {},
   "outputs": [
    {
     "data": {
      "text/plain": [
       "<BarContainer object of 5 artists>"
      ]
     },
     "execution_count": 47,
     "metadata": {},
     "output_type": "execute_result"
    },
    {
     "data": {
      "image/png": "[encoded data removed]",
      "text/plain": [
       "<Figure size 432x288 with 1 Axes>"
      ]
     },
     "metadata": {
      "needs_background": "light"
     },
     "output_type": "display_data"
    }
   ],
   "source": [
    "plt.bar(5-np.arange(len(data[\"level\"].value_counts())), data[\"level\"].value_counts())"
   ]
  },
  {
   "cell_type": "code",
   "execution_count": 48,
   "metadata": {},
   "outputs": [
    {
     "data": {
      "text/plain": [
       "Index(['zip', 'NAICS.id', 'NAICS.display-label', 'RCPSZFE.display-label',\n",
       "       'ESTAB', 'City Name', 'State', 'level'],\n",
       "      dtype='object')"
      ]
     },
     "execution_count": 48,
     "metadata": {},
     "output_type": "execute_result"
    }
   ],
   "source": [
    "# data[\"level\"].value_counts()\n",
    "data.columns"
   ]
  },
  {
   "cell_type": "code",
   "execution_count": 49,
   "metadata": {},
   "outputs": [],
   "source": [
    "inter_45 = level4_name.intersection(level5_name)\n",
    "inter_34 = level3_name.intersection(level4_name)\n",
    "inter_23 = level2_name.intersection(level3_name)\n",
    "r = np.arange(len(data))\n",
    "l5 = data[data[\"level\"] == 5]"
   ]
  },
  {
   "cell_type": "code",
   "execution_count": 50,
   "metadata": {},
   "outputs": [],
   "source": [
    "data.loc[16, \"NAICS.display-label\"]\n",
    "get_labels = np.vectorize(lambda x : x in inter_45)\n",
    "labels = get_labels(l5[\"NAICS.display-label\"])\n",
    "idx2drop = l5.index[labels]"
   ]
  },
  {
   "cell_type": "code",
   "execution_count": 51,
   "metadata": {},
   "outputs": [],
   "source": [
    "data = data.drop(idx2drop,0) \n",
    "data.index = np.arange(len(data))"
   ]
  },
  {
   "cell_type": "code",
   "execution_count": 52,
   "metadata": {},
   "outputs": [],
   "source": [
    "l4 = data[data[\"level\"] == 4]\n",
    "get_labels = np.vectorize(lambda x : x in inter_34)\n",
    "labels = get_labels(l4[\"NAICS.display-label\"])\n",
    "idx2drop = l4.index[labels]\n",
    "data = data.drop(idx2drop,0) \n",
    "data.index = np.arange(len(data))"
   ]
  },
  {
   "cell_type": "code",
   "execution_count": 53,
   "metadata": {},
   "outputs": [],
   "source": [
    "l3 = data[data[\"level\"] == 3]\n",
    "get_labels = np.vectorize(lambda x : x in inter_23)\n",
    "labels = get_labels(l3[\"NAICS.display-label\"])\n",
    "idx2drop = l3.index[labels]\n",
    "data = data.drop(idx2drop,0) \n",
    "data.index = np.arange(len(data))"
   ]
  },
  {
   "cell_type": "code",
   "execution_count": 54,
   "metadata": {},
   "outputs": [],
   "source": [
    "level1_name = set(data[\"NAICS.display-label\"][data[\"level\"] == 1])\n",
    "level2_name = set(data[\"NAICS.display-label\"][data[\"level\"] == 2])\n",
    "level3_name = set(data[\"NAICS.display-label\"][data[\"level\"] == 3])\n",
    "level4_name = set(data[\"NAICS.display-label\"][data[\"level\"] == 4])\n",
    "level5_name = set(data[\"NAICS.display-label\"][data[\"level\"] == 5])\n",
    "level1_id = set(data[\"NAICS.id\"][data[\"level\"] == 1])\n",
    "level2_id = set(data[\"NAICS.id\"][data[\"level\"] == 2])\n",
    "level3_id = set(data[\"NAICS.id\"][data[\"level\"] == 3])\n",
    "level4_id = set(data[\"NAICS.id\"][data[\"level\"] == 4])\n",
    "level5_id = set(data[\"NAICS.id\"][data[\"level\"] == 5])"
   ]
  },
  {
   "cell_type": "code",
   "execution_count": 55,
   "metadata": {},
   "outputs": [],
   "source": [
    "labels = list(data[\"RCPSZFE.display-label\"] == 'Establishments not operated for the entire year')\n",
    "idx2drop = data.index[labels]\n",
    "data = data.drop(idx2drop,0) \n",
    "data.index = np.arange(len(data))"
   ]
  },
  {
   "cell_type": "code",
   "execution_count": 56,
   "metadata": {},
   "outputs": [],
   "source": [
    "labels = list(data[\"RCPSZFE.display-label\"] ==  'Establishments operated for the entire year')\n",
    "idx2drop = data.index[labels]\n",
    "data = data.drop(idx2drop,0) \n",
    "data.index = np.arange(len(data))"
   ]
  },
  {
   "cell_type": "code",
   "execution_count": 57,
   "metadata": {},
   "outputs": [
    {
     "data": {
      "text/plain": [
       "array(['All establishments',\n",
       "       'Establishments operated entire year with sales/receipts/revenue of $100,000 to $249,999',\n",
       "       'Establishments operated entire year with sales/receipts/revenue of $250,000 to $499,999',\n",
       "       'Establishments operated entire year with sales/receipts/revenue of $500,000 to $999,999',\n",
       "       'Establishments operated entire year with sales/receipts/revenue of $1,000,000 or more',\n",
       "       'Establishments operated entire year with sales/receipts/revenue less than $100,000'],\n",
       "      dtype=object)"
      ]
     },
     "execution_count": 57,
     "metadata": {},
     "output_type": "execute_result"
    }
   ],
   "source": [
    "values = data[\"RCPSZFE.display-label\"].unique()\n",
    "values"
   ]
  },
  {
   "cell_type": "code",
   "execution_count": 58,
   "metadata": {},
   "outputs": [],
   "source": [
    "weight_dict = {'All establishments' : 0,\n",
    "          'Establishments operated entire year with sales/receipts/revenue less than $100,000' : 0.5,\n",
    "          'Establishments operated entire year with sales/receipts/revenue of $100,000 to $249,999': 1,\n",
    "          'Establishments operated entire year with sales/receipts/revenue of $250,000 to $499,999' : 2,\n",
    "          'Establishments operated entire year with sales/receipts/revenue of $500,000 to $999,999' : 4,\n",
    "          'Establishments operated entire year with sales/receipts/revenue of $1,000,000 or more' : 8\n",
    "         }"
   ]
  },
  {
   "cell_type": "code",
   "execution_count": 59,
   "metadata": {},
   "outputs": [],
   "source": [
    "scale_dict = {'All establishments' : \"Total\",\n",
    "          'Establishments operated entire year with sales/receipts/revenue less than $100,000' : \"E\",\n",
    "          'Establishments operated entire year with sales/receipts/revenue of $100,000 to $249,999': \"D\",\n",
    "          'Establishments operated entire year with sales/receipts/revenue of $250,000 to $499,999' : \"C\",\n",
    "          'Establishments operated entire year with sales/receipts/revenue of $500,000 to $999,999' : \"B\",\n",
    "          'Establishments operated entire year with sales/receipts/revenue of $1,000,000 or more' : \"A\"\n",
    "         }"
   ]
  },
  {
   "cell_type": "code",
   "execution_count": 60,
   "metadata": {},
   "outputs": [],
   "source": [
    "give_weight = np.vectorize(lambda x : weight_dict[x])\n",
    "data['weight'] = give_weight(data[\"RCPSZFE.display-label\"])"
   ]
  },
  {
   "cell_type": "code",
   "execution_count": 61,
   "metadata": {},
   "outputs": [],
   "source": [
    "give_cat = np.vectorize(lambda x : scale_dict[x])\n",
    "data['scale'] = give_cat(data[\"RCPSZFE.display-label\"])"
   ]
  },
  {
   "cell_type": "code",
   "execution_count": 62,
   "metadata": {},
   "outputs": [
    {
     "data": {
      "text/plain": [
       "<BarContainer object of 405 artists>"
      ]
     },
     "execution_count": 62,
     "metadata": {},
     "output_type": "execute_result"
    },
    {
     "data": {
      "image/png": "[encoded data removed]",
      "text/plain": [
       "<Figure size 432x288 with 1 Axes>"
      ]
     },
     "metadata": {
      "needs_background": "light"
     },
     "output_type": "display_data"
    }
   ],
   "source": [
    "temp = data[data[\"scale\"] == \"Total\"]\n",
    "temp = temp[temp[\"level\"] == 1][\"ESTAB\"]\n",
    "# # plt.hist(temp)\n",
    "dist = dict(temp.value_counts())\n",
    "l = sorted(dist.items(), key = lambda x : x[0])\n",
    "num = [pair[0] for pair in l]\n",
    "count = [pair[1] for pair in l]\n",
    "plt.bar(x=num, height=count)"
   ]
  },
  {
   "cell_type": "code",
   "execution_count": 63,
   "metadata": {},
   "outputs": [
    {
     "name": "stdout",
     "output_type": "stream",
     "text": [
      "[1, 2, 3, 4, 5, 6, 7, 8, 9, 10, 11, 12, 13, 14, 15, 16, 17, 18, 19, 20, 21, 22, 23, 24, 25, 26, 27, 28, 29, 30, 31, 32, 33, 34, 35, 36, 37, 38, 39, 40, 41, 42, 43, 44, 45, 46, 47, 48, 49, 50, 51, 52, 53, 54, 55, 56, 57, 58, 59, 60, 61, 62, 63, 64, 65, 66, 67, 68, 69, 70, 71, 72, 73, 74, 75, 76, 77, 78, 79, 80, 81, 82, 83, 84, 85, 86, 87, 88, 89, 90, 91, 92, 93, 94, 95, 96, 97, 98, 99, 100, 101, 102, 103, 104, 105, 106, 107, 108, 109, 110, 111, 112, 113, 114, 115, 116, 117, 118, 119, 120, 121, 122, 123, 124, 125, 126, 127, 128, 129, 130, 131, 132, 133, 134, 135, 136, 137, 138, 139, 140, 141, 142, 143, 144, 145, 146, 147, 148, 149, 150, 151, 152, 153, 154, 155, 156, 157, 158, 159, 160, 161, 162, 163, 164, 165, 166, 167, 168, 169, 170, 171, 172, 173, 174, 175, 176, 177, 178, 179, 180, 181, 182, 183, 184, 185, 186, 187, 188, 189, 190, 191, 192, 193, 194, 195, 196, 197, 198, 199, 200, 201, 202, 203, 204, 205, 206, 207, 208, 209, 210, 211, 212, 213, 214, 215, 216, 217, 218, 219, 220, 221, 222, 223, 224, 225, 226, 227, 228, 229, 230, 231, 232, 233, 234, 235, 236, 237, 238, 239, 240, 241, 242, 243, 244, 245, 246, 247, 248, 249, 250, 251, 252, 253, 254, 255, 256, 257, 258, 260, 261, 262, 263, 264, 265, 266, 267, 268, 269, 270, 271, 272, 273, 274, 275, 276, 277, 278, 279, 280, 281, 282, 283, 284, 285, 286, 287, 288, 289, 290, 292, 293, 294, 295, 296, 297, 298, 299, 300, 301, 302, 303, 304, 305, 306, 307, 308, 309, 310, 311, 312, 313, 314, 315, 316, 317, 318, 319, 320, 321, 322, 324, 325, 326, 327, 328, 329, 330, 331, 332, 333, 334, 335, 337, 338, 339, 340, 342, 343, 345, 346, 347, 348, 349, 350, 351, 353, 354, 356, 359, 360, 363, 365, 366, 372, 375, 376, 377, 381, 384, 385, 387, 388, 392, 393, 397, 400, 402, 403, 409, 414, 415, 417, 418, 419, 420, 421, 424, 426, 427, 428, 438, 441, 454, 459, 461, 466, 471, 477, 498, 500, 503, 504, 511, 514, 516, 554, 594, 597, 612, 629, 633, 660, 716, 822, 931]\n"
     ]
    },
    {
     "data": {
      "text/plain": [
       "array([0.17357104, 0.27311761, 0.33738664, 0.38736603, 0.42271228,\n",
       "       0.45201292, 0.47619538, 0.49742374, 0.51490794, 0.53115554,\n",
       "       0.54633828, 0.55987222, 0.57189475, 0.58223413, 0.59271091,\n",
       "       0.60167628, 0.61064166, 0.61946963, 0.62816021, 0.63557983,\n",
       "       0.64293075, 0.64880462, 0.65546854, 0.6623042 , 0.66876202,\n",
       "       0.67539159, 0.68150591, 0.68686452, 0.69212009, 0.6968604 ,\n",
       "       0.70184117, 0.70719978, 0.71204314, 0.71657736, 0.72090547,\n",
       "       0.72526793, 0.72952734, 0.73471421, 0.73797747, 0.74192773,\n",
       "       0.74560319, 0.7491756 , 0.75278236, 0.75645782, 0.75982413,\n",
       "       0.76322479, 0.76635065, 0.76982001, 0.77356417, 0.77669002,\n",
       "       0.77967848, 0.78235779, 0.78589585, 0.78905606, 0.79249107,\n",
       "       0.79513603, 0.79802143, 0.80107859, 0.80358615, 0.80674636,\n",
       "       0.80935697, 0.81196757, 0.81492168, 0.81784144, 0.8202116 ,\n",
       "       0.8230283 , 0.82467711, 0.82684117, 0.82903957, 0.83116928,\n",
       "       0.83340203, 0.83570349, 0.8383828 , 0.84034075, 0.84250481,\n",
       "       0.84439406, 0.84679857, 0.84923743, 0.85116103, 0.85287854,\n",
       "       0.85507694, 0.85686315, 0.85899286, 0.86071036, 0.86246221,\n",
       "       0.86421407, 0.86610333, 0.86795823, 0.87012229, 0.87201154,\n",
       "       0.87393515, 0.8758931 , 0.87754191, 0.87922506, 0.88121737,\n",
       "       0.88290052, 0.88503023, 0.88647293, 0.88777824, 0.88904919,\n",
       "       0.89062929, 0.8922781 , 0.8939956 , 0.89557571, 0.89688101,\n",
       "       0.89866722, 0.90031602, 0.90193048, 0.90347623, 0.90467848,\n",
       "       0.90581204, 0.90715169, 0.90831959, 0.90945315, 0.91068975,\n",
       "       0.9121668 , 0.91367821, 0.91518961, 0.91676972, 0.91766282,\n",
       "       0.91865897, 0.91989558, 0.92092608, 0.92223138, 0.92343364,\n",
       "       0.92449849, 0.92546029, 0.92673124, 0.9274526 , 0.9280709 ,\n",
       "       0.9290327 , 0.92989145, 0.93068151, 0.93181506, 0.93274251,\n",
       "       0.93353256, 0.93449437, 0.93552487, 0.93648667, 0.93772328,\n",
       "       0.93858203, 0.93950948, 0.94019648, 0.94108959, 0.94177659,\n",
       "       0.94284144, 0.94366584, 0.94452459, 0.94503985, 0.94572685,\n",
       "       0.9462421 , 0.94703215, 0.94771915, 0.94826876, 0.94909316,\n",
       "       0.94988321, 0.95070761, 0.95142896, 0.95208162, 0.95259687,\n",
       "       0.95318082, 0.95362737, 0.95424567, 0.95489832, 0.95524182,\n",
       "       0.95579143, 0.95671888, 0.95768068, 0.95884858, 0.95956994,\n",
       "       0.96011954, 0.96094394, 0.96159659, 0.96197444, 0.96238664,\n",
       "       0.96314235, 0.9635889 , 0.9640698 , 0.96465375, 0.96499725,\n",
       "       0.9655812 , 0.96602775, 0.96647431, 0.96688651, 0.96743611,\n",
       "       0.96777961, 0.96815746, 0.96863836, 0.96905056, 0.96953146,\n",
       "       0.96990932, 0.97014977, 0.97063067, 0.97097417, 0.97138637,\n",
       "       0.97186727, 0.97234817, 0.97262297, 0.97293212, 0.97317257,\n",
       "       0.97372218, 0.97413438, 0.97434048, 0.97451223, 0.97471833,\n",
       "       0.97513053, 0.97554273, 0.97595493, 0.97626408, 0.97643583,\n",
       "       0.97671063, 0.97705414, 0.97736329, 0.97763809, 0.97791289,\n",
       "       0.97822204, 0.97863424, 0.97904644, 0.97949299, 0.97969909,\n",
       "       0.97997389, 0.98011129, 0.9805235 , 0.98097005, 0.98110745,\n",
       "       0.98138225, 0.9816227 , 0.98200055, 0.9821723 , 0.9823784 ,\n",
       "       0.9825845 , 0.982928  , 0.98323715, 0.98344325, 0.9836837 ,\n",
       "       0.98378675, 0.98399286, 0.98413026, 0.98443941, 0.98481726,\n",
       "       0.98498901, 0.98519511, 0.98543556, 0.98581341, 0.98608821,\n",
       "       0.98629431, 0.98643171, 0.98656911, 0.98691261, 0.98705001,\n",
       "       0.98722176, 0.98729046, 0.98759962, 0.98780572, 0.98797747,\n",
       "       0.98811487, 0.98825227, 0.98856142, 0.98876752, 0.98900797,\n",
       "       0.98907667, 0.98924842, 0.98931712, 0.98942017, 0.98962627,\n",
       "       0.98990107, 0.99000412, 0.99017587, 0.99027892, 0.99055372,\n",
       "       0.99058807, 0.99065677, 0.99086287, 0.99096592, 0.99106897,\n",
       "       0.99117203, 0.99130943, 0.99148118, 0.99154988, 0.99165293,\n",
       "       0.99196208, 0.99213383, 0.99223688, 0.99237428, 0.99254603,\n",
       "       0.99264908, 0.99278648, 0.99288953, 0.99292388, 0.99302693,\n",
       "       0.99316433, 0.99319868, 0.99337043, 0.99340478, 0.99347348,\n",
       "       0.99354218, 0.99367958, 0.99374828, 0.99388568, 0.99395438,\n",
       "       0.99402308, 0.99409178, 0.99426353, 0.99433223, 0.99446963,\n",
       "       0.99450398, 0.99460703, 0.99467574, 0.99484749, 0.99488184,\n",
       "       0.99498489, 0.99508794, 0.99512229, 0.99525969, 0.99539709,\n",
       "       0.99550014, 0.99563754, 0.99570624, 0.99574059, 0.99580929,\n",
       "       0.99587799, 0.99601539, 0.99608409, 0.99611844, 0.99615279,\n",
       "       0.99622149, 0.99625584, 0.99635889, 0.99639324, 0.99646194,\n",
       "       0.99649629, 0.99656499, 0.99663369, 0.99666804, 0.99670239,\n",
       "       0.99683979, 0.99697719, 0.99708024, 0.99718329, 0.99721764,\n",
       "       0.99725199, 0.99732069, 0.99735504, 0.99742374, 0.99749244,\n",
       "       0.99752679, 0.99756114, 0.99766419, 0.99773289, 0.99780159,\n",
       "       0.99783594, 0.99787029, 0.99790464, 0.99793899, 0.99797334,\n",
       "       0.99800769, 0.99807639, 0.99811074, 0.99817944, 0.99821379,\n",
       "       0.99824815, 0.9982825 , 0.99831685, 0.9983512 , 0.9984199 ,\n",
       "       0.99845425, 0.9984886 , 0.99852295, 0.998626  , 0.99866035,\n",
       "       0.9986947 , 0.99872905, 0.9987634 , 0.99879775, 0.9988321 ,\n",
       "       0.99886645, 0.9989008 , 0.99893515, 0.9989695 , 0.99900385,\n",
       "       0.9990382 , 0.9991069 , 0.99914125, 0.9991756 , 0.99920995,\n",
       "       0.9992443 , 0.99927865, 0.999313  , 0.9993817 , 0.99941605,\n",
       "       0.9994504 , 0.9995191 , 0.99955345, 0.99962215, 0.9996565 ,\n",
       "       0.99969085, 0.9997252 , 0.99975955, 0.9997939 , 0.99982825,\n",
       "       0.9998626 , 0.99989695, 0.9999313 , 0.99996565, 1.        ])"
      ]
     },
     "execution_count": 63,
     "metadata": {},
     "output_type": "execute_result"
    },
    {
     "data": {
      "image/png": "[encoded data removed]",
      "text/plain": [
       "<Figure size 432x288 with 1 Axes>"
      ]
     },
     "metadata": {
      "needs_background": "light"
     },
     "output_type": "display_data"
    }
   ],
   "source": [
    "# print(np.array(dist.values))\n",
    "# count\n",
    "print(num)\n",
    "y = np.cumsum(count)\n",
    "cdf = y / y[-1]\n",
    "plt.plot(num, cdf)\n",
    "cdf"
   ]
  },
  {
   "cell_type": "code",
   "execution_count": 64,
   "metadata": {},
   "outputs": [],
   "source": [
    "#### Equal Breath Binning\n",
    "## 25 th percentile \n",
    "num=np.array(num)\n",
    "per_25 = 3\n",
    "## 50 th percentile\n",
    "per_50 = num[abs(cdf - 0.50) < 0.003][0]\n",
    "\n",
    "## 75 th percentile\n",
    "per_75 = num[abs(cdf - 0.75) < 0.001][0]\n"
   ]
  },
  {
   "cell_type": "code",
   "execution_count": 65,
   "metadata": {},
   "outputs": [
    {
     "data": {
      "text/html": [
       "<div>\n",
       "<style scoped>\n",
       "    .dataframe tbody tr th:only-of-type {\n",
       "        vertical-align: middle;\n",
       "    }\n",
       "\n",
       "    .dataframe tbody tr th {\n",
       "        vertical-align: top;\n",
       "    }\n",
       "\n",
       "    .dataframe thead th {\n",
       "        text-align: right;\n",
       "    }\n",
       "</style>\n",
       "<table border=\"1\" class=\"dataframe\">\n",
       "  <thead>\n",
       "    <tr style=\"text-align: right;\">\n",
       "      <th></th>\n",
       "      <th>zip</th>\n",
       "      <th>NAICS.id</th>\n",
       "      <th>NAICS.display-label</th>\n",
       "      <th>RCPSZFE.display-label</th>\n",
       "      <th>ESTAB</th>\n",
       "      <th>City Name</th>\n",
       "      <th>State</th>\n",
       "      <th>level</th>\n",
       "      <th>weight</th>\n",
       "      <th>scale</th>\n",
       "    </tr>\n",
       "  </thead>\n",
       "  <tbody>\n",
       "    <tr>\n",
       "      <td>0</td>\n",
       "      <td>06001</td>\n",
       "      <td>44-45</td>\n",
       "      <td>Retail trade</td>\n",
       "      <td>All establishments</td>\n",
       "      <td>81</td>\n",
       "      <td>Avon</td>\n",
       "      <td>CT</td>\n",
       "      <td>1</td>\n",
       "      <td>0</td>\n",
       "      <td>Total</td>\n",
       "    </tr>\n",
       "    <tr>\n",
       "      <td>185</td>\n",
       "      <td>06002</td>\n",
       "      <td>44-45</td>\n",
       "      <td>Retail trade</td>\n",
       "      <td>All establishments</td>\n",
       "      <td>63</td>\n",
       "      <td>Bloomfield</td>\n",
       "      <td>CT</td>\n",
       "      <td>1</td>\n",
       "      <td>0</td>\n",
       "      <td>Total</td>\n",
       "    </tr>\n",
       "    <tr>\n",
       "      <td>342</td>\n",
       "      <td>06006</td>\n",
       "      <td>44-45</td>\n",
       "      <td>Retail trade</td>\n",
       "      <td>All establishments</td>\n",
       "      <td>1</td>\n",
       "      <td>Windsor</td>\n",
       "      <td>CT</td>\n",
       "      <td>1</td>\n",
       "      <td>0</td>\n",
       "      <td>Total</td>\n",
       "    </tr>\n",
       "    <tr>\n",
       "      <td>350</td>\n",
       "      <td>06010</td>\n",
       "      <td>44-45</td>\n",
       "      <td>Retail trade</td>\n",
       "      <td>All establishments</td>\n",
       "      <td>168</td>\n",
       "      <td>Bristol</td>\n",
       "      <td>CT</td>\n",
       "      <td>1</td>\n",
       "      <td>0</td>\n",
       "      <td>Total</td>\n",
       "    </tr>\n",
       "    <tr>\n",
       "      <td>616</td>\n",
       "      <td>06011</td>\n",
       "      <td>44-45</td>\n",
       "      <td>Retail trade</td>\n",
       "      <td>All establishments</td>\n",
       "      <td>2</td>\n",
       "      <td>Bristol</td>\n",
       "      <td>CT</td>\n",
       "      <td>1</td>\n",
       "      <td>0</td>\n",
       "      <td>Total</td>\n",
       "    </tr>\n",
       "    <tr>\n",
       "      <td>...</td>\n",
       "      <td>...</td>\n",
       "      <td>...</td>\n",
       "      <td>...</td>\n",
       "      <td>...</td>\n",
       "      <td>...</td>\n",
       "      <td>...</td>\n",
       "      <td>...</td>\n",
       "      <td>...</td>\n",
       "      <td>...</td>\n",
       "      <td>...</td>\n",
       "    </tr>\n",
       "    <tr>\n",
       "      <td>2211481</td>\n",
       "      <td>99361</td>\n",
       "      <td>44-45</td>\n",
       "      <td>Retail trade</td>\n",
       "      <td>All establishments</td>\n",
       "      <td>4</td>\n",
       "      <td>Waitsburg</td>\n",
       "      <td>WA</td>\n",
       "      <td>1</td>\n",
       "      <td>0</td>\n",
       "      <td>Total</td>\n",
       "    </tr>\n",
       "    <tr>\n",
       "      <td>2211500</td>\n",
       "      <td>99362</td>\n",
       "      <td>44-45</td>\n",
       "      <td>Retail trade</td>\n",
       "      <td>All establishments</td>\n",
       "      <td>158</td>\n",
       "      <td>Walla Walla</td>\n",
       "      <td>WA</td>\n",
       "      <td>1</td>\n",
       "      <td>0</td>\n",
       "      <td>Total</td>\n",
       "    </tr>\n",
       "    <tr>\n",
       "      <td>2211778</td>\n",
       "      <td>99371</td>\n",
       "      <td>44-45</td>\n",
       "      <td>Retail trade</td>\n",
       "      <td>All establishments</td>\n",
       "      <td>1</td>\n",
       "      <td>Washtucna</td>\n",
       "      <td>WA</td>\n",
       "      <td>1</td>\n",
       "      <td>0</td>\n",
       "      <td>Total</td>\n",
       "    </tr>\n",
       "    <tr>\n",
       "      <td>2211784</td>\n",
       "      <td>99402</td>\n",
       "      <td>44-45</td>\n",
       "      <td>Retail trade</td>\n",
       "      <td>All establishments</td>\n",
       "      <td>2</td>\n",
       "      <td>Asotin</td>\n",
       "      <td>WA</td>\n",
       "      <td>1</td>\n",
       "      <td>0</td>\n",
       "      <td>Total</td>\n",
       "    </tr>\n",
       "    <tr>\n",
       "      <td>2211795</td>\n",
       "      <td>99403</td>\n",
       "      <td>44-45</td>\n",
       "      <td>Retail trade</td>\n",
       "      <td>All establishments</td>\n",
       "      <td>57</td>\n",
       "      <td>Clarkston</td>\n",
       "      <td>WA</td>\n",
       "      <td>1</td>\n",
       "      <td>0</td>\n",
       "      <td>Total</td>\n",
       "    </tr>\n",
       "  </tbody>\n",
       "</table>\n",
       "<p>29112 rows × 10 columns</p>\n",
       "</div>"
      ],
      "text/plain": [
       "           zip NAICS.id NAICS.display-label RCPSZFE.display-label  ESTAB  \\\n",
       "0        06001    44-45        Retail trade    All establishments     81   \n",
       "185      06002    44-45        Retail trade    All establishments     63   \n",
       "342      06006    44-45        Retail trade    All establishments      1   \n",
       "350      06010    44-45        Retail trade    All establishments    168   \n",
       "616      06011    44-45        Retail trade    All establishments      2   \n",
       "...        ...      ...                 ...                   ...    ...   \n",
       "2211481  99361    44-45        Retail trade    All establishments      4   \n",
       "2211500  99362    44-45        Retail trade    All establishments    158   \n",
       "2211778  99371    44-45        Retail trade    All establishments      1   \n",
       "2211784  99402    44-45        Retail trade    All establishments      2   \n",
       "2211795  99403    44-45        Retail trade    All establishments     57   \n",
       "\n",
       "           City Name State  level  weight  scale  \n",
       "0               Avon    CT      1       0  Total  \n",
       "185       Bloomfield    CT      1       0  Total  \n",
       "342          Windsor    CT      1       0  Total  \n",
       "350          Bristol    CT      1       0  Total  \n",
       "616          Bristol    CT      1       0  Total  \n",
       "...              ...   ...    ...     ...    ...  \n",
       "2211481    Waitsburg    WA      1       0  Total  \n",
       "2211500  Walla Walla    WA      1       0  Total  \n",
       "2211778    Washtucna    WA      1       0  Total  \n",
       "2211784       Asotin    WA      1       0  Total  \n",
       "2211795    Clarkston    WA      1       0  Total  \n",
       "\n",
       "[29112 rows x 10 columns]"
      ]
     },
     "execution_count": 65,
     "metadata": {},
     "output_type": "execute_result"
    }
   ],
   "source": [
    "temp = data[data[\"scale\"] == \"Total\"]\n",
    "temp = temp[temp[\"level\"] == 1]\n",
    "temp"
   ]
  },
  {
   "cell_type": "code",
   "execution_count": 66,
   "metadata": {},
   "outputs": [],
   "source": [
    "scale_labeling = np.vectorize(lambda x : \"tiny\" if x <= per_25 else (\"small\" if x <= per_50 else (\"medium\" if x < per_75 else \"large\")))\n",
    "scale = scale_labeling(temp[\"ESTAB\"])\n",
    "zips = temp[\"zip\"]\n",
    "zip2scale = {z : s for z, s in zip(zips, scale)}"
   ]
  },
  {
   "cell_type": "code",
   "execution_count": 67,
   "metadata": {},
   "outputs": [],
   "source": [
    "scale_labeling = np.vectorize(lambda x : zip2scale.get(x, \"small\"))\n",
    "data[\"city scale\"] = scale_labeling(data[\"zip\"])"
   ]
  },
  {
   "cell_type": "code",
   "execution_count": 68,
   "metadata": {},
   "outputs": [
    {
     "data": {
      "text/plain": [
       "tiny      9822\n",
       "large     7406\n",
       "medium    7225\n",
       "small     4659\n",
       "Name: city scale, dtype: int64"
      ]
     },
     "execution_count": 68,
     "metadata": {},
     "output_type": "execute_result"
    }
   ],
   "source": [
    "# data[\"city scale\"].value_counts()\n",
    "temp = data[data[\"scale\"] == \"Total\"]\n",
    "temp = temp[temp[\"level\"] == 1]\n",
    "temp[\"city scale\"].value_counts()"
   ]
  },
  {
   "cell_type": "code",
   "execution_count": 69,
   "metadata": {},
   "outputs": [
    {
     "data": {
      "text/plain": [
       "large     1455869\n",
       "medium     527258\n",
       "small      128738\n",
       "tiny       100089\n",
       "Name: city scale, dtype: int64"
      ]
     },
     "execution_count": 69,
     "metadata": {},
     "output_type": "execute_result"
    }
   ],
   "source": [
    "data[\"city scale\"].value_counts()"
   ]
  },
  {
   "cell_type": "code",
   "execution_count": null,
   "metadata": {},
   "outputs": [],
   "source": []
  },
  {
   "cell_type": "code",
   "execution_count": 70,
   "metadata": {},
   "outputs": [
    {
     "name": "stdout",
     "output_type": "stream",
     "text": [
      "100\n",
      "200\n",
      "300\n",
      "400\n",
      "500\n",
      "600\n",
      "700\n",
      "800\n",
      "900\n",
      "1000\n",
      "1100\n",
      "1200\n",
      "1300\n",
      "1400\n",
      "1500\n",
      "1600\n",
      "1700\n",
      "1800\n",
      "1900\n",
      "2000\n",
      "2100\n",
      "2200\n",
      "2300\n",
      "2400\n",
      "2500\n",
      "2600\n",
      "2700\n",
      "2800\n",
      "2900\n",
      "3000\n",
      "3100\n",
      "3200\n",
      "3300\n",
      "3400\n",
      "3500\n",
      "3600\n",
      "3700\n",
      "3800\n",
      "3900\n",
      "4000\n",
      "4100\n",
      "4200\n",
      "4300\n",
      "4400\n",
      "4500\n",
      "4600\n",
      "4700\n",
      "4800\n",
      "4900\n",
      "5000\n",
      "5100\n",
      "5200\n",
      "5300\n",
      "5400\n",
      "5500\n",
      "5600\n",
      "5700\n",
      "5800\n",
      "5900\n"
     ]
    },
    {
     "ename": "KeyboardInterrupt",
     "evalue": "",
     "output_type": "error",
     "traceback": [
      "\u001b[1;31m---------------------------------------------------------------------------\u001b[0m",
      "\u001b[1;31mKeyboardInterrupt\u001b[0m                         Traceback (most recent call last)",
      "\u001b[1;32m<ipython-input-70-a5cfbbde91e3>\u001b[0m in \u001b[0;36m<module>\u001b[1;34m\u001b[0m\n\u001b[0;32m      4\u001b[0m \u001b[0mcount\u001b[0m \u001b[1;33m=\u001b[0m \u001b[1;36m0\u001b[0m\u001b[1;33m\u001b[0m\u001b[1;33m\u001b[0m\u001b[0m\n\u001b[0;32m      5\u001b[0m \u001b[1;32mfor\u001b[0m \u001b[0mz\u001b[0m \u001b[1;32min\u001b[0m \u001b[0mzip2tw\u001b[0m\u001b[1;33m.\u001b[0m\u001b[0mkeys\u001b[0m\u001b[1;33m(\u001b[0m\u001b[1;33m)\u001b[0m\u001b[1;33m:\u001b[0m\u001b[1;33m\u001b[0m\u001b[1;33m\u001b[0m\u001b[0m\n\u001b[1;32m----> 6\u001b[1;33m     \u001b[0mdf\u001b[0m \u001b[1;33m=\u001b[0m \u001b[0mdata\u001b[0m\u001b[1;33m[\u001b[0m\u001b[0mdata\u001b[0m\u001b[1;33m[\u001b[0m\u001b[1;34m\"zip\"\u001b[0m\u001b[1;33m]\u001b[0m \u001b[1;33m==\u001b[0m \u001b[0mz\u001b[0m\u001b[1;33m]\u001b[0m\u001b[1;33m\u001b[0m\u001b[1;33m\u001b[0m\u001b[0m\n\u001b[0m\u001b[0;32m      7\u001b[0m     \u001b[0mdf\u001b[0m \u001b[1;33m=\u001b[0m \u001b[0mdf\u001b[0m\u001b[1;33m[\u001b[0m\u001b[0mdf\u001b[0m\u001b[1;33m[\u001b[0m\u001b[1;34m\"level\"\u001b[0m\u001b[1;33m]\u001b[0m \u001b[1;33m==\u001b[0m \u001b[1;36m1\u001b[0m\u001b[1;33m]\u001b[0m\u001b[1;33m\u001b[0m\u001b[1;33m\u001b[0m\u001b[0m\n\u001b[0;32m      8\u001b[0m     \u001b[0mest\u001b[0m \u001b[1;33m=\u001b[0m \u001b[0mnp\u001b[0m\u001b[1;33m.\u001b[0m\u001b[0marray\u001b[0m\u001b[1;33m(\u001b[0m\u001b[0mdf\u001b[0m\u001b[1;33m[\u001b[0m\u001b[1;34m\"ESTAB\"\u001b[0m\u001b[1;33m]\u001b[0m\u001b[1;33m)\u001b[0m\u001b[1;33m\u001b[0m\u001b[1;33m\u001b[0m\u001b[0m\n",
      "\u001b[1;32mD:\\Ana\\envs\\cs445\\lib\\site-packages\\pandas\\core\\ops\\__init__.py\u001b[0m in \u001b[0;36mwrapper\u001b[1;34m(self, other, axis)\u001b[0m\n\u001b[0;32m   1227\u001b[0m \u001b[1;33m\u001b[0m\u001b[0m\n\u001b[0;32m   1228\u001b[0m             \u001b[1;32mwith\u001b[0m \u001b[0mnp\u001b[0m\u001b[1;33m.\u001b[0m\u001b[0merrstate\u001b[0m\u001b[1;33m(\u001b[0m\u001b[0mall\u001b[0m\u001b[1;33m=\u001b[0m\u001b[1;34m\"ignore\"\u001b[0m\u001b[1;33m)\u001b[0m\u001b[1;33m:\u001b[0m\u001b[1;33m\u001b[0m\u001b[1;33m\u001b[0m\u001b[0m\n\u001b[1;32m-> 1229\u001b[1;33m                 \u001b[0mres\u001b[0m \u001b[1;33m=\u001b[0m \u001b[0mna_op\u001b[0m\u001b[1;33m(\u001b[0m\u001b[0mvalues\u001b[0m\u001b[1;33m,\u001b[0m \u001b[0mother\u001b[0m\u001b[1;33m)\u001b[0m\u001b[1;33m\u001b[0m\u001b[1;33m\u001b[0m\u001b[0m\n\u001b[0m\u001b[0;32m   1230\u001b[0m             \u001b[1;32mif\u001b[0m \u001b[0mis_scalar\u001b[0m\u001b[1;33m(\u001b[0m\u001b[0mres\u001b[0m\u001b[1;33m)\u001b[0m\u001b[1;33m:\u001b[0m\u001b[1;33m\u001b[0m\u001b[1;33m\u001b[0m\u001b[0m\n\u001b[0;32m   1231\u001b[0m                 raise TypeError(\n",
      "\u001b[1;32mD:\\Ana\\envs\\cs445\\lib\\site-packages\\pandas\\core\\ops\\__init__.py\u001b[0m in \u001b[0;36mna_op\u001b[1;34m(x, y)\u001b[0m\n\u001b[0;32m   1089\u001b[0m \u001b[1;33m\u001b[0m\u001b[0m\n\u001b[0;32m   1090\u001b[0m         \u001b[1;32mif\u001b[0m \u001b[0mis_object_dtype\u001b[0m\u001b[1;33m(\u001b[0m\u001b[0mx\u001b[0m\u001b[1;33m.\u001b[0m\u001b[0mdtype\u001b[0m\u001b[1;33m)\u001b[0m\u001b[1;33m:\u001b[0m\u001b[1;33m\u001b[0m\u001b[1;33m\u001b[0m\u001b[0m\n\u001b[1;32m-> 1091\u001b[1;33m             \u001b[0mresult\u001b[0m \u001b[1;33m=\u001b[0m \u001b[0m_comp_method_OBJECT_ARRAY\u001b[0m\u001b[1;33m(\u001b[0m\u001b[0mop\u001b[0m\u001b[1;33m,\u001b[0m \u001b[0mx\u001b[0m\u001b[1;33m,\u001b[0m \u001b[0my\u001b[0m\u001b[1;33m)\u001b[0m\u001b[1;33m\u001b[0m\u001b[1;33m\u001b[0m\u001b[0m\n\u001b[0m\u001b[0;32m   1092\u001b[0m \u001b[1;33m\u001b[0m\u001b[0m\n\u001b[0;32m   1093\u001b[0m         \u001b[1;32melif\u001b[0m \u001b[0mis_datetimelike_v_numeric\u001b[0m\u001b[1;33m(\u001b[0m\u001b[0mx\u001b[0m\u001b[1;33m,\u001b[0m \u001b[0my\u001b[0m\u001b[1;33m)\u001b[0m\u001b[1;33m:\u001b[0m\u001b[1;33m\u001b[0m\u001b[1;33m\u001b[0m\u001b[0m\n",
      "\u001b[1;31mKeyboardInterrupt\u001b[0m: "
     ]
    }
   ],
   "source": [
    "### Takes long to run!!!!!\n",
    "zips = data[\"zip\"].unique()\n",
    "zip2tw = {z : 0 for z in zips}\n",
    "count = 0 \n",
    "for z in zip2tw.keys():\n",
    "    df = data[data[\"zip\"] == z]\n",
    "    df = df[df[\"level\"] == 1]\n",
    "    est = np.array(df[\"ESTAB\"])\n",
    "    weight = np.array(df[\"weight\"])\n",
    "    zip2tw[z] = est.dot(weight)\n",
    "    count += 1\n",
    "    if count % 100 == 0:\n",
    "        print(count)\n",
    "zip2tw\n"
   ]
  },
  {
   "cell_type": "code",
   "execution_count": null,
   "metadata": {},
   "outputs": [],
   "source": [
    "# data[data[\"zip\"] == \"06010\"]['RCPSZFE.display-label'][351]\n",
    "a = data[data[\"zip\"] == \"06010\"]\n",
    "a = a[a['level'] == 1]"
   ]
  },
  {
   "cell_type": "code",
   "execution_count": null,
   "metadata": {},
   "outputs": [],
   "source": [
    "cuda = torch.device('cuda')\n",
    "idx2zip = {i : z  for i,z in enumerate(zips)}\n",
    "zip2idx = {z : i  for i,z in enumerate(zips)}\n",
    "total_weights = np.zeros([len(zips), 1])\n",
    "for k in zip2tw.keys():\n",
    "    total_weights[zip2idx[k]] = zip2tw[k]"
   ]
  },
  {
   "cell_type": "code",
   "execution_count": null,
   "metadata": {},
   "outputs": [],
   "source": [
    "#np.save(\"zip2tw.npy\", total_weights)\n",
    "np.load(\"zip2tw.npy\",total_weights)"
   ]
  },
  {
   "cell_type": "code",
   "execution_count": null,
   "metadata": {},
   "outputs": [],
   "source": [
    "zip2vec = np.zeros([len(zips), 12])\n",
    "count = 0\n",
    "for z in zip2tw.keys():\n",
    "    df = data[data[\"zip\"] == z]\n",
    "    df = df[df[\"level\"] == 2]\n",
    "    vec = []\n",
    "    for name in level2_name:\n",
    "        sub_df = df[df[\"NAICS.display-label\"] == name]\n",
    "        if len(sub_df) == 0:\n",
    "            vec.append(0)\n",
    "            continue\n",
    "#         print(sub_df)\n",
    "        est = torch.from_numpy(sub_df[\"ESTAB\"].values).double().to(cuda)\n",
    "        weight = torch.from_numpy(sub_df[\"weight\"].values).double().to(cuda)\n",
    "        val = est.dot(weight)\n",
    "        vec.append(val)\n",
    "    zip2vec[zip2idx[z]] = vec\n",
    "    count += 1\n",
    "\n",
    "    if count % 100 == 0:\n",
    "        break\n",
    "#     est = np.array(df[\"ESTAB\"])\n",
    "#     weight = np.array(df[\"weight\"])\n",
    "#     zip2tw[z] = est.dot(weight)\n",
    "    "
   ]
  },
  {
   "cell_type": "code",
   "execution_count": null,
   "metadata": {},
   "outputs": [],
   "source": [
    "zip2vec"
   ]
  },
  {
   "cell_type": "code",
   "execution_count": null,
   "metadata": {},
   "outputs": [],
   "source": [
    "zip2vec[0]"
   ]
  },
  {
   "cell_type": "code",
   "execution_count": null,
   "metadata": {},
   "outputs": [],
   "source": [
    "zip2vec[1]"
   ]
  }
 ],
 "metadata": {
  "kernelspec": {
   "display_name": "Python 3",
   "language": "python",
   "name": "python3"
  },
  "language_info": {
   "codemirror_mode": {
    "name": "ipython",
    "version": 3
   },
   "file_extension": ".py",
   "mimetype": "text/x-python",
   "name": "python",
   "nbconvert_exporter": "python",
   "pygments_lexer": "ipython3",
   "version": "3.6.9"
  }
 },
 "nbformat": 4,
 "nbformat_minor": 2
}
