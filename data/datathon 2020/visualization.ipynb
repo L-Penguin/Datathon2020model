{
 "cells": [
  {
   "cell_type": "code",
   "execution_count": 1,
   "metadata": {},
   "outputs": [],
   "source": [
    "import numpy as np \n",
    "import pandas as pd\n",
    "import torch\n",
    "from tqdm import tqdm\n",
    "from matplotlib import pyplot as plt\n",
    "import math"
   ]
  },
  {
   "cell_type": "code",
   "execution_count": 2,
   "metadata": {},
   "outputs": [
    {
     "name": "stderr",
     "output_type": "stream",
     "text": [
      "C:\\ProgramData\\Anaconda3\\envs\\fuck\\lib\\site-packages\\numpy\\lib\\arraysetops.py:569: FutureWarning: elementwise comparison failed; returning scalar instead, but in the future will perform elementwise comparison\n",
      "  mask |= (ar1 == a)\n"
     ]
    }
   ],
   "source": [
    "data = pd.read_csv(\"data2_with_county.csv\", index_col = 0)"
   ]
  },
  {
   "cell_type": "code",
   "execution_count": 3,
   "metadata": {},
   "outputs": [
    {
     "data": {
      "text/plain": [
       "array([ 1, 12, 24, 48, 20])"
      ]
     },
     "execution_count": 3,
     "metadata": {},
     "output_type": "execute_result"
    }
   ],
   "source": [
    "temp = data.groupby('level')[\"NAICS.id\"].unique()\n",
    "l = np.array([len(q) for q in temp])\n",
    "l"
   ]
  },
  {
   "cell_type": "code",
   "execution_count": 4,
   "metadata": {},
   "outputs": [
    {
     "data": {
      "text/plain": [
       "4    755078\n",
       "3    604465\n",
       "2    538336\n",
       "5    193721\n",
       "1    120354\n",
       "Name: level, dtype: int64"
      ]
     },
     "execution_count": 4,
     "metadata": {},
     "output_type": "execute_result"
    }
   ],
   "source": [
    "data[\"level\"].value_counts()"
   ]
  },
  {
   "cell_type": "code",
   "execution_count": 5,
   "metadata": {},
   "outputs": [
    {
     "data": {
      "text/plain": [
       "Text(0.5, 1.0, 'Average number of data points per industry by length of NAICS id')"
      ]
     },
     "execution_count": 5,
     "metadata": {},
     "output_type": "execute_result"
    },
    {
     "data": {
      "image/png": "[encoded data removed]",
      "text/plain": [
       "<Figure size 432x288 with 1 Axes>"
      ]
     },
     "metadata": {
      "needs_background": "light"
     },
     "output_type": "display_data"
    }
   ],
   "source": [
    "objects = (2, 3, 4, 5, 6)\n",
    "y_pos = np.arange(len(objects))\n",
    "plt.bar(objects, [120354, 538336/12, 604465/24, 755078/48, 193721/20])\n",
    "plt.xlabel(\"digits in NAICS id\")\n",
    "plt.ylabel(\"Average number of data points per industry\")\n",
    "plt.title(\"Average number of data points per industry by length of NAICS id\")\n"
   ]
  },
  {
   "cell_type": "code",
   "execution_count": 6,
   "metadata": {},
   "outputs": [
    {
     "data": {
      "text/plain": [
       "Text(0.5, 1.0, 'Number of data points by length of NAICS id')"
      ]
     },
     "execution_count": 6,
     "metadata": {},
     "output_type": "execute_result"
    },
    {
     "data": {
      "image/png": "[encoded data removed]",
      "text/plain": [
       "<Figure size 432x288 with 1 Axes>"
      ]
     },
     "metadata": {
      "needs_background": "light"
     },
     "output_type": "display_data"
    }
   ],
   "source": [
    "objects = (2, 3, 4, 5, 6)\n",
    "y_pos = np.arange(len(objects))\n",
    "plt.bar(objects, [120354, 538336, 604465, 755078, 193721])\n",
    "plt.xlabel(\"digits in NAICS id\")\n",
    "plt.ylabel(\"Number of data points\")\n",
    "plt.title(\"Number of data points by length of NAICS id\")"
   ]
  },
  {
   "cell_type": "code",
   "execution_count": 7,
   "metadata": {},
   "outputs": [
    {
     "data": {
      "text/html": [
       "<div>\n",
       "<style scoped>\n",
       "    .dataframe tbody tr th:only-of-type {\n",
       "        vertical-align: middle;\n",
       "    }\n",
       "\n",
       "    .dataframe tbody tr th {\n",
       "        vertical-align: top;\n",
       "    }\n",
       "\n",
       "    .dataframe thead th {\n",
       "        text-align: right;\n",
       "    }\n",
       "</style>\n",
       "<table border=\"1\" class=\"dataframe\">\n",
       "  <thead>\n",
       "    <tr style=\"text-align: right;\">\n",
       "      <th></th>\n",
       "      <th>Unnamed: 0.1</th>\n",
       "      <th>zip</th>\n",
       "      <th>NAICS.id</th>\n",
       "      <th>NAICS.display-label</th>\n",
       "      <th>RCPSZFE.display-label</th>\n",
       "      <th>ESTAB</th>\n",
       "      <th>City Name</th>\n",
       "      <th>State</th>\n",
       "      <th>level</th>\n",
       "      <th>weight</th>\n",
       "      <th>scale</th>\n",
       "      <th>city scale</th>\n",
       "      <th>County Names</th>\n",
       "      <th>County Fips</th>\n",
       "      <th>City Lat</th>\n",
       "      <th>City Lng</th>\n",
       "    </tr>\n",
       "  </thead>\n",
       "  <tbody>\n",
       "    <tr>\n",
       "      <th>0</th>\n",
       "      <td>0</td>\n",
       "      <td>6001</td>\n",
       "      <td>44-45</td>\n",
       "      <td>Retail trade</td>\n",
       "      <td>All establishments</td>\n",
       "      <td>81</td>\n",
       "      <td>Avon</td>\n",
       "      <td>CT</td>\n",
       "      <td>1</td>\n",
       "      <td>0</td>\n",
       "      <td>Total</td>\n",
       "      <td>large</td>\n",
       "      <td>Hartford</td>\n",
       "      <td>9003</td>\n",
       "      <td>41.79071</td>\n",
       "      <td>-72.85384</td>\n",
       "    </tr>\n",
       "    <tr>\n",
       "      <th>1</th>\n",
       "      <td>1</td>\n",
       "      <td>6001</td>\n",
       "      <td>44-45</td>\n",
       "      <td>Retail trade</td>\n",
       "      <td>Establishments operated entire year with sales...</td>\n",
       "      <td>4</td>\n",
       "      <td>Avon</td>\n",
       "      <td>CT</td>\n",
       "      <td>1</td>\n",
       "      <td>1</td>\n",
       "      <td>D</td>\n",
       "      <td>large</td>\n",
       "      <td>Hartford</td>\n",
       "      <td>9003</td>\n",
       "      <td>41.79071</td>\n",
       "      <td>-72.85384</td>\n",
       "    </tr>\n",
       "    <tr>\n",
       "      <th>2</th>\n",
       "      <td>2</td>\n",
       "      <td>6001</td>\n",
       "      <td>44-45</td>\n",
       "      <td>Retail trade</td>\n",
       "      <td>Establishments operated entire year with sales...</td>\n",
       "      <td>8</td>\n",
       "      <td>Avon</td>\n",
       "      <td>CT</td>\n",
       "      <td>1</td>\n",
       "      <td>2</td>\n",
       "      <td>C</td>\n",
       "      <td>large</td>\n",
       "      <td>Hartford</td>\n",
       "      <td>9003</td>\n",
       "      <td>41.79071</td>\n",
       "      <td>-72.85384</td>\n",
       "    </tr>\n",
       "    <tr>\n",
       "      <th>3</th>\n",
       "      <td>3</td>\n",
       "      <td>6001</td>\n",
       "      <td>44-45</td>\n",
       "      <td>Retail trade</td>\n",
       "      <td>Establishments operated entire year with sales...</td>\n",
       "      <td>20</td>\n",
       "      <td>Avon</td>\n",
       "      <td>CT</td>\n",
       "      <td>1</td>\n",
       "      <td>4</td>\n",
       "      <td>B</td>\n",
       "      <td>large</td>\n",
       "      <td>Hartford</td>\n",
       "      <td>9003</td>\n",
       "      <td>41.79071</td>\n",
       "      <td>-72.85384</td>\n",
       "    </tr>\n",
       "    <tr>\n",
       "      <th>4</th>\n",
       "      <td>4</td>\n",
       "      <td>6001</td>\n",
       "      <td>44-45</td>\n",
       "      <td>Retail trade</td>\n",
       "      <td>Establishments operated entire year with sales...</td>\n",
       "      <td>36</td>\n",
       "      <td>Avon</td>\n",
       "      <td>CT</td>\n",
       "      <td>1</td>\n",
       "      <td>8</td>\n",
       "      <td>A</td>\n",
       "      <td>large</td>\n",
       "      <td>Hartford</td>\n",
       "      <td>9003</td>\n",
       "      <td>41.79071</td>\n",
       "      <td>-72.85384</td>\n",
       "    </tr>\n",
       "  </tbody>\n",
       "</table>\n",
       "</div>"
      ],
      "text/plain": [
       "   Unnamed: 0.1   zip NAICS.id NAICS.display-label  \\\n",
       "0             0  6001    44-45        Retail trade   \n",
       "1             1  6001    44-45        Retail trade   \n",
       "2             2  6001    44-45        Retail trade   \n",
       "3             3  6001    44-45        Retail trade   \n",
       "4             4  6001    44-45        Retail trade   \n",
       "\n",
       "                               RCPSZFE.display-label  ESTAB City Name State  \\\n",
       "0                                 All establishments     81      Avon    CT   \n",
       "1  Establishments operated entire year with sales...      4      Avon    CT   \n",
       "2  Establishments operated entire year with sales...      8      Avon    CT   \n",
       "3  Establishments operated entire year with sales...     20      Avon    CT   \n",
       "4  Establishments operated entire year with sales...     36      Avon    CT   \n",
       "\n",
       "   level  weight  scale city scale County Names  County Fips  City Lat  \\\n",
       "0      1       0  Total      large     Hartford         9003  41.79071   \n",
       "1      1       1      D      large     Hartford         9003  41.79071   \n",
       "2      1       2      C      large     Hartford         9003  41.79071   \n",
       "3      1       4      B      large     Hartford         9003  41.79071   \n",
       "4      1       8      A      large     Hartford         9003  41.79071   \n",
       "\n",
       "   City Lng  \n",
       "0 -72.85384  \n",
       "1 -72.85384  \n",
       "2 -72.85384  \n",
       "3 -72.85384  \n",
       "4 -72.85384  "
      ]
     },
     "execution_count": 7,
     "metadata": {},
     "output_type": "execute_result"
    }
   ],
   "source": [
    "data[:5]"
   ]
  },
  {
   "cell_type": "code",
   "execution_count": 14,
   "metadata": {},
   "outputs": [
    {
     "data": {
      "text/plain": [
       "<BarContainer object of 4 artists>"
      ]
     },
     "execution_count": 14,
     "metadata": {},
     "output_type": "execute_result"
    },
    {
     "data": {
      "image/png": "[encoded data removed]",
      "text/plain": [
       "<Figure size 432x288 with 1 Axes>"
      ]
     },
     "metadata": {
      "needs_background": "light"
     },
     "output_type": "display_data"
    }
   ],
   "source": [
    "a = data[data['NAICS.id'] == '44-45']\n",
    "objects = (\"100k-250k\", \"250k-500k\", \"500k-1m\", \"1m+\")\n",
    "y_pos = np.arange(len(objects))\n",
    "plt.bar(objects, [len(a[a['weight'] == 1]), len(a[a['weight'] == 2]), len(a[a['weight'] == 4]), len(a[a['weight'] == 8])])"
   ]
  },
  {
   "cell_type": "code",
   "execution_count": 79,
   "metadata": {},
   "outputs": [],
   "source": [
    "data_prox = np.load('proximity.npy')"
   ]
  },
  {
   "cell_type": "code",
   "execution_count": 80,
   "metadata": {},
   "outputs": [
    {
     "data": {
      "text/plain": [
       "array([24468, 24468, 27571, 27571, 24468, 24468, 27571, 16998, 24468,\n",
       "       24468, 12640, 27571], dtype=int64)"
      ]
     },
     "execution_count": 80,
     "metadata": {},
     "output_type": "execute_result"
    }
   ],
   "source": [
    "np.argmax(data_prox[:29112], axis = 0)"
   ]
  },
  {
   "cell_type": "code",
   "execution_count": 141,
   "metadata": {},
   "outputs": [],
   "source": [
    "a = data_prox[-12:]\n",
    "sidx = np.argsort(a, axis=1)\n",
    "\n",
    "# Store shape info\n",
    "m,n = a.shape\n",
    "\n",
    "# Initialize output array\n",
    "out = np.empty((m,n),dtype=int)\n",
    "\n",
    "# Use sidx as column indices, while a range array for the row indices\n",
    "# to select one element per row. Since sidx is a 2D array of indices\n",
    "# we need to use a 2D extended range array for the row indices\n",
    "b = out[np.arange(m)[:,None], sidx] = np.arange(n)\n",
    "out\n",
    "np.save(\"industrysort\",b)"
   ]
  },
  {
   "cell_type": "code",
   "execution_count": 142,
   "metadata": {},
   "outputs": [],
   "source": [
    "large_prox = np.load('largeresult.npy')\n",
    "a = np.transpose(large_prox[:-12, :])\n",
    "sidx = np.argsort(a, axis=1)\n",
    "\n",
    "# Store shape info\n",
    "m,n = a.shape\n",
    "\n",
    "# Initialize output array\n",
    "out = np.empty((m,n),dtype=int)\n",
    "\n",
    "# Use sidx as column indices, while a range array for the row indices\n",
    "# to select one element per row. Since sidx is a 2D array of indices\n",
    "# we need to use a 2D extended range array for the row indices\n",
    "out[np.arange(m)[:,None], sidx] = np.arange(n)\n",
    "b = out.argsort()[:,::-1][:,:3]\n",
    "np.save(\"largesort\",b)"
   ]
  },
  {
   "cell_type": "code",
   "execution_count": 143,
   "metadata": {},
   "outputs": [],
   "source": [
    "medium_prox = np.load('mediumresult.npy')\n",
    "a = np.transpose(medium_prox[:-12, :])\n",
    "sidx = np.argsort(a, axis=1)\n",
    "\n",
    "# Store shape info\n",
    "m,n = a.shape\n",
    "\n",
    "# Initialize output array\n",
    "out = np.empty((m,n),dtype=int)\n",
    "\n",
    "# Use sidx as column indices, while a range array for the row indices\n",
    "# to select one element per row. Since sidx is a 2D array of indices\n",
    "# we need to use a 2D extended range array for the row indices\n",
    "out[np.arange(m)[:,None], sidx] = np.arange(n)\n",
    "b = out.argsort()[:,::-1][:,:3]\n",
    "np.save(\"mediumsort\",b)"
   ]
  },
  {
   "cell_type": "code",
   "execution_count": 144,
   "metadata": {},
   "outputs": [],
   "source": [
    "small_prox = np.load('smallresult.npy')\n",
    "a = np.transpose(small_prox[:-12, :])\n",
    "sidx = np.argsort(a, axis=1)\n",
    "\n",
    "# Store shape info\n",
    "m,n = a.shape\n",
    "\n",
    "# Initialize output array\n",
    "out = np.empty((m,n),dtype=int)\n",
    "\n",
    "# Use sidx as column indices, while a range array for the row indices\n",
    "# to select one element per row. Since sidx is a 2D array of indices\n",
    "# we need to use a 2D extended range array for the row indices\n",
    "out[np.arange(m)[:,None], sidx] = np.arange(n)\n",
    "b = out.argsort()[:,::-1][:,:3]\n",
    "out.shape\n",
    "np.save(\"smallsort\",b)"
   ]
  },
  {
   "cell_type": "code",
   "execution_count": 145,
   "metadata": {},
   "outputs": [],
   "source": [
    "tiny_prox = np.load('tinyresult.npy')\n",
    "a = np.transpose(tiny_prox[:-12, :])\n",
    "sidx = np.argsort(a, axis=1)\n",
    "\n",
    "# Store shape info\n",
    "m,n = a.shape\n",
    "\n",
    "# Initialize output array\n",
    "out = np.empty((m,n),dtype=int)\n",
    "\n",
    "# Use sidx as column indices, while a range array for the row indices\n",
    "# to select one element per row. Since sidx is a 2D array of indices\n",
    "# we need to use a 2D extended range array for the row indices\n",
    "out[np.arange(m)[:,None], sidx] = np.arange(n)\n",
    "b = out.argsort()[:,::-1][:,:3]\n",
    "out.shape\n",
    "np.save(\"tinysort\",b)"
   ]
  },
  {
   "cell_type": "code",
   "execution_count": 146,
   "metadata": {},
   "outputs": [
    {
     "data": {
      "text/plain": [
       "(12, 3)"
      ]
     },
     "execution_count": 146,
     "metadata": {},
     "output_type": "execute_result"
    }
   ],
   "source": [
    "aaa = np.load(\"tinysort.npy\")\n",
    "aaa.shape"
   ]
  },
  {
   "cell_type": "code",
   "execution_count": 147,
   "metadata": {},
   "outputs": [],
   "source": [
    "prox = np.load('final.npy')\n",
    "a = np.transpose(prox[:-12, :])\n",
    "sidx = np.argsort(a, axis=1)\n",
    "\n",
    "# Store shape info\n",
    "m,n = a.shape\n",
    "\n",
    "# Initialize output array\n",
    "out = np.empty((m,n),dtype=int)\n",
    "\n",
    "# Use sidx as column indices, while a range array for the row indices\n",
    "# to select one element per row. Since sidx is a 2D array of indices\n",
    "# we need to use a 2D extended range array for the row indices\n",
    "out[np.arange(m)[:,None], sidx] = np.arange(n)\n",
    "b = out.argsort()[:,::-1][:,:3]\n",
    "b\n",
    "np.save(\"allsort\",b)"
   ]
  },
  {
   "cell_type": "code",
   "execution_count": null,
   "metadata": {},
   "outputs": [],
   "source": []
  },
  {
   "cell_type": "code",
   "execution_count": null,
   "metadata": {},
   "outputs": [],
   "source": []
  }
 ],
 "metadata": {
  "kernelspec": {
   "display_name": "Python 3",
   "language": "python",
   "name": "python3"
  },
  "language_info": {
   "codemirror_mode": {
    "name": "ipython",
    "version": 3
   },
   "file_extension": ".py",
   "mimetype": "text/x-python",
   "name": "python",
   "nbconvert_exporter": "python",
   "pygments_lexer": "ipython3",
   "version": "3.7.6"
  }
 },
 "nbformat": 4,
 "nbformat_minor": 4
}
